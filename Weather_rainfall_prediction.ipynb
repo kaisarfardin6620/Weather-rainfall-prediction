{
  "cells": [
    {
      "cell_type": "markdown",
      "metadata": {
        "id": "view-in-github",
        "colab_type": "text"
      },
      "source": [
        "<a href=\"https://colab.research.google.com/github/kaisarfardin6620/Weather-rainfall-prediction/blob/main/Weather_rainfall_prediction.ipynb\" target=\"_parent\"><img src=\"https://colab.research.google.com/assets/colab-badge.svg\" alt=\"Open In Colab\"/></a>"
      ]
    },
    {
      "cell_type": "code",
      "source": [
        "!pip install pycaret[full]\n",
        "!pip install pycaret[mlops]\n",
        "!pip install pycaret[time-series]"
      ],
      "metadata": {
        "id": "u2LhuSe9JqN7"
      },
      "execution_count": null,
      "outputs": []
    },
    {
      "cell_type": "code",
      "execution_count": null,
      "metadata": {
        "id": "dSD9n2g0hafH"
      },
      "outputs": [],
      "source": [
        "import numpy as np\n",
        "import pandas as pd\n",
        "import seaborn as sns\n",
        "import matplotlib.pyplot as plt\n",
        "import warnings\n",
        "warnings.filterwarnings('ignore')\n",
        "from sklearn.model_selection import train_test_split, GridSearchCV\n",
        "from sklearn.linear_model import LinearRegression\n",
        "from sklearn.tree import DecisionTreeRegressor\n",
        "from sklearn.ensemble import RandomForestRegressor\n",
        "from sklearn.neighbors import KNeighborsRegressor\n",
        "from sklearn.metrics import mean_squared_error, r2_score, mean_absolute_error, accuracy_score, confusion_matrix, classification_report, roc_curve, auc, precision_recall_curve, f1_score, recall_score, precision_score\n",
        "from sklearn.preprocessing import StandardScaler\n",
        "from sklearn.pipeline import Pipeline\n",
        "from sklearn.preprocessing import PolynomialFeatures"
      ]
    },
    {
      "cell_type": "code",
      "execution_count": null,
      "metadata": {
        "id": "x97DeNofiE53"
      },
      "outputs": [],
      "source": [
        "from google.colab import drive\n",
        "drive.mount('/content/drive')"
      ]
    },
    {
      "cell_type": "code",
      "execution_count": null,
      "metadata": {
        "id": "WIUoQ44fiG63"
      },
      "outputs": [],
      "source": [
        "df =  pd.read_csv('/content/drive/MyDrive/dataset/weather.csv')"
      ]
    },
    {
      "cell_type": "code",
      "execution_count": null,
      "metadata": {
        "id": "5VjIs6sSTOHb"
      },
      "outputs": [],
      "source": [
        "df_pycaret = df.copy()"
      ]
    },
    {
      "cell_type": "code",
      "execution_count": null,
      "metadata": {
        "id": "6ruLK9MSi6an"
      },
      "outputs": [],
      "source": [
        "df.info()"
      ]
    },
    {
      "cell_type": "code",
      "execution_count": null,
      "metadata": {
        "id": "bZnNinVKi8lQ"
      },
      "outputs": [],
      "source": [
        "df.shape"
      ]
    },
    {
      "cell_type": "code",
      "execution_count": null,
      "metadata": {
        "id": "aOQ-LZfsi-b3"
      },
      "outputs": [],
      "source": [
        "df.describe()"
      ]
    },
    {
      "cell_type": "code",
      "execution_count": null,
      "metadata": {
        "id": "-_rXS7l-iwx4"
      },
      "outputs": [],
      "source": [
        "df.head(3)"
      ]
    },
    {
      "cell_type": "code",
      "execution_count": null,
      "metadata": {
        "id": "ecXY1c41iz6H"
      },
      "outputs": [],
      "source": [
        "df.tail(3)"
      ]
    },
    {
      "cell_type": "code",
      "execution_count": null,
      "metadata": {
        "id": "xTFwSiQUjDeX"
      },
      "outputs": [],
      "source": [
        "df.isnull().sum()"
      ]
    },
    {
      "cell_type": "code",
      "execution_count": null,
      "metadata": {
        "id": "cXz4p08wjGcY"
      },
      "outputs": [],
      "source": [
        "df.duplicated().sum()"
      ]
    },
    {
      "cell_type": "code",
      "execution_count": null,
      "metadata": {
        "id": "48EbUtw8kpli"
      },
      "outputs": [],
      "source": [
        "df['Date'] = pd.to_datetime(df['Date'])\n",
        "df['Month'] = df['Date'].dt.month\n",
        "df['Quarter'] = df['Date'].dt.quarter\n",
        "reference_date = df['Date'].min()\n",
        "df['DaysSince'] = (df['Date'] - reference_date).dt.days\n",
        "df['Month_sin'] = np.sin(2 * np.pi * df['Month'] / 12)\n",
        "df['Month_cos'] = np.cos(2 * np.pi * df['Month'] / 12)"
      ]
    },
    {
      "cell_type": "code",
      "execution_count": null,
      "metadata": {
        "id": "0aKyZndZjJF_"
      },
      "outputs": [],
      "source": [
        "df.drop('Date', axis=1, inplace=True)"
      ]
    },
    {
      "cell_type": "code",
      "execution_count": null,
      "metadata": {
        "id": "kcU4Q-nLx4sq"
      },
      "outputs": [],
      "source": [
        "df.head(3)"
      ]
    },
    {
      "cell_type": "code",
      "execution_count": null,
      "metadata": {
        "id": "CCeaViwgzlCh"
      },
      "outputs": [],
      "source": [
        "df.hist(figsize=(10, 8))\n",
        "plt.tight_layout()\n",
        "plt.show()"
      ]
    },
    {
      "cell_type": "code",
      "execution_count": null,
      "metadata": {
        "id": "RABGoBn8zmdJ"
      },
      "outputs": [],
      "source": [
        "plt.figure(figsize=(10, 8))\n",
        "sns.heatmap(df.corr(), annot=True, cmap='coolwarm', fmt=\".2f\")\n",
        "plt.title(\"Correlation Heatmap\")\n",
        "plt.show()"
      ]
    },
    {
      "cell_type": "code",
      "execution_count": null,
      "metadata": {
        "id": "CzjcYiGLx6-S"
      },
      "outputs": [],
      "source": [
        "sns.pairplot(df)\n",
        "plt.suptitle(\"Scatter Plot Matrix\", y=1.02)\n",
        "plt.tight_layout()\n",
        "plt.show()"
      ]
    },
    {
      "cell_type": "code",
      "execution_count": null,
      "metadata": {
        "id": "aNQJozJIyddq"
      },
      "outputs": [],
      "source": [
        "plt.figure(figsize=(12, 6))\n",
        "sns.boxplot(data=df)\n",
        "plt.title(\"Box Plots of Numerical Features\")\n",
        "plt.xticks(rotation=45, ha='right')\n",
        "plt.tight_layout()\n",
        "plt.show()"
      ]
    },
    {
      "cell_type": "code",
      "execution_count": null,
      "metadata": {
        "id": "u1l__oIM0EQp"
      },
      "outputs": [],
      "source": [
        "plt.figure(figsize=(12, 6))\n",
        "sns.violinplot(data=df)\n",
        "plt.title(\"Violin Plots of Numerical Features\")\n",
        "plt.xticks(rotation=45, ha='right')\n",
        "plt.tight_layout()\n",
        "plt.show()"
      ]
    },
    {
      "cell_type": "code",
      "execution_count": null,
      "metadata": {
        "id": "Gq-nHCRV0IkS"
      },
      "outputs": [],
      "source": [
        "df.plot(kind='density', subplots=True, layout=(3, 3), figsize=(15, 10), sharex=False)\n",
        "plt.suptitle(\"Density Plots of Numerical Features\", y=1.02)\n",
        "plt.tight_layout()\n",
        "plt.show()"
      ]
    },
    {
      "cell_type": "code",
      "execution_count": null,
      "metadata": {
        "id": "8LdBT-NNUmMR"
      },
      "outputs": [],
      "source": [
        "plt.figure(figsize=(12, 6))\n",
        "sns.boxplot(data=df)\n",
        "plt.title(\"Box Plots of Numerical Features for Outlier Visualization\")\n",
        "plt.xticks(rotation=45, ha='right')\n",
        "plt.tight_layout()\n",
        "plt.show()"
      ]
    },
    {
      "cell_type": "code",
      "execution_count": null,
      "metadata": {
        "id": "uS5VYLxwUfBb"
      },
      "outputs": [],
      "source": [
        "def detect_outliers_iqr(df):\n",
        "    outlier_indices = {}\n",
        "    for col in df.select_dtypes(include=np.number).columns:\n",
        "        Q1 = df[col].quantile(0.25)\n",
        "        Q3 = df[col].quantile(0.75)\n",
        "        IQR = Q3 - Q1\n",
        "\n",
        "        lower_bound = Q1 - 1.5 * IQR\n",
        "        upper_bound = Q3 + 1.5 * IQR\n",
        "\n",
        "        outliers = df[(df[col] < lower_bound) | (df[col] > upper_bound)].index\n",
        "        if len(outliers) > 0:\n",
        "            outlier_indices[col] = outliers\n",
        "\n",
        "    return outlier_indices\n",
        "\n",
        "outliers_by_feature = detect_outliers_iqr(df)\n",
        "\n",
        "print(\"Outliers detected by IQR method:\")\n",
        "for feature, indices in outliers_by_feature.items():\n",
        "    print(f\"Feature '{feature}': Indices {list(indices)}\")\n",
        "\n",
        "if 'Rainfall' in outliers_by_feature:\n",
        "    outlier_indices_rainfall = outliers_by_feature['Rainfall']\n",
        "    df_cleaned = df.drop(outlier_indices_rainfall).reset_index(drop=True)\n",
        "    print(f\"\\nRemoved {len(outlier_indices_rainfall)} outliers from 'Rainfall'.\")\n",
        "    print(\"Shape of DataFrame after removal:\", df_cleaned.shape)\n",
        "else:\n",
        "    df_cleaned = df.copy()\n",
        "    print(\"\\nNo outliers detected in 'Rainfall' or no outliers removed.\")"
      ]
    },
    {
      "cell_type": "code",
      "execution_count": null,
      "metadata": {
        "id": "ia1bRt6P0KpB"
      },
      "outputs": [],
      "source": [
        " x = df.drop('Rainfall', axis=1)\n",
        " y = df['Rainfall']"
      ]
    },
    {
      "cell_type": "code",
      "execution_count": null,
      "metadata": {
        "id": "T0YFCcpE-z_A"
      },
      "outputs": [],
      "source": [
        "poly = PolynomialFeatures(degree=2, include_bias=False)\n",
        "x_poly = poly.fit_transform(x)\n",
        "\n",
        "try:\n",
        "    feature_names = poly.get_feature_names_out(X.columns)\n",
        "    x_poly_df = pd.DataFrame(x_poly, columns=feature_names)\n",
        "except:\n",
        "    x_poly_df = pd.DataFrame(x_poly)\n",
        "\n",
        "print(\"Original features:\\n\", x.head())\n",
        "print(\"Polynomial & interaction features:\\n\", x_poly_df.head())"
      ]
    },
    {
      "cell_type": "code",
      "execution_count": null,
      "metadata": {
        "id": "3P_k_iMb0xqK"
      },
      "outputs": [],
      "source": [
        "x_train, x_test, y_train, y_test = train_test_split(x_poly_df, y, test_size=0.2, random_state=42)"
      ]
    },
    {
      "cell_type": "code",
      "execution_count": null,
      "metadata": {
        "id": "IlEq73du0-iB"
      },
      "outputs": [],
      "source": [
        "def evaluate_model(name, model, x_test, y_test):\n",
        "    predictions = model.predict(x_test)\n",
        "\n",
        "    mse = mean_squared_error(y_test, predictions)\n",
        "    rmse = np.sqrt(mse)\n",
        "    mae = mean_absolute_error(y_test, predictions)\n",
        "    r2 = r2_score(y_test, predictions)\n",
        "\n",
        "    print(f\"Metrics for {name}\")\n",
        "    print(f\"Mean Squared Error (MSE)      : {mse:.4f}\")\n",
        "    print(f\"Root Mean Squared Error (RMSE) : {rmse:.4f}\")\n",
        "    print(f\"Mean Absolute Error (MAE)     : {mae:.4f}\")\n",
        "    print(f\"R-squared (R2)                : {r2:.4f}\")\n",
        "    print(\"------------------------\")\n",
        "\n",
        "    return {\n",
        "        \"Model\": name,\n",
        "        \"MSE\": mse,\n",
        "        \"RMSE\": rmse,\n",
        "        \"MAE\": mae,\n",
        "        \"R2\": r2\n",
        "    }\n",
        "\n",
        "metrics = []"
      ]
    },
    {
      "cell_type": "code",
      "execution_count": null,
      "metadata": {
        "id": "RoJCPBiF1Lx5"
      },
      "outputs": [],
      "source": [
        "pipeline_lr = Pipeline([('LinearRegression', LinearRegression())])\n",
        "pipeline_lr.fit(x_train, y_train)\n",
        "metrics.append(evaluate_model(\"Linear Regression\", pipeline_lr, x_test, y_test))"
      ]
    },
    {
      "cell_type": "code",
      "execution_count": null,
      "metadata": {
        "id": "T_RTUztwfD-P"
      },
      "outputs": [],
      "source": [
        "y_pred_lr = pipeline_lr.predict(x_test)\n",
        "residuals_lr = y_test - y_pred_lr\n",
        "\n",
        "plt.figure(figsize=(8, 6))\n",
        "sns.histplot(residuals_lr, kde=True)\n",
        "plt.title('Residuals Distribution for LinearRegression')\n",
        "plt.xlabel('Residuals')\n",
        "plt.ylabel('Frequency')\n",
        "plt.show()\n",
        "\n",
        "plt.figure(figsize=(8, 6))\n",
        "plt.scatter(y_pred_lr, residuals_lr, alpha=0.7)\n",
        "plt.axhline(y=0, color='r', linestyle='--')\n",
        "plt.xlabel('Predicted Profit')\n",
        "plt.ylabel('Residuals')\n",
        "plt.title('Residuals vs. Predicted for LinearRegression')\n",
        "plt.show()"
      ]
    },
    {
      "cell_type": "code",
      "execution_count": null,
      "metadata": {
        "id": "tdfZaquA1nQg"
      },
      "outputs": [],
      "source": [
        "pipeline_dt = Pipeline([('DecisionTreeRegressor', DecisionTreeRegressor())])\n",
        "pipeline_dt.fit(x_train, y_train)\n",
        "metrics.append(evaluate_model(\"DecisionTreeRegressor (Before Tuning)\", pipeline_dt, x_test, y_test))"
      ]
    },
    {
      "cell_type": "code",
      "execution_count": null,
      "metadata": {
        "id": "JOJ_cEDpfE5-"
      },
      "outputs": [],
      "source": [
        "y_pred_dt = pipeline_dt.predict(x_test)\n",
        "residuals_dt = y_test - y_pred_dt\n",
        "\n",
        "plt.figure(figsize=(8, 6))\n",
        "sns.histplot(residuals_dt, kde=True)\n",
        "plt.title('Residuals Distribution for DecisionTreeRegressor')\n",
        "plt.xlabel('Residuals')\n",
        "plt.ylabel('Frequency')\n",
        "plt.show()\n",
        "\n",
        "plt.figure(figsize=(8, 6))\n",
        "plt.scatter(y_pred_dt, residuals_dt, alpha=0.7)\n",
        "plt.axhline(y=0, color='r', linestyle='--')\n",
        "plt.xlabel('Predicted Profit')\n",
        "plt.ylabel('Residuals')\n",
        "plt.title('Residuals vs. Predicted for DecisionTreeRegressor')\n",
        "plt.show()"
      ]
    },
    {
      "cell_type": "code",
      "execution_count": null,
      "metadata": {
        "id": "k5DMRa9X1nO6"
      },
      "outputs": [],
      "source": [
        "pipeline_rf = Pipeline([('RandomForestRegressor', RandomForestRegressor())])\n",
        "pipeline_rf.fit(x_train, y_train)\n",
        "metrics.append(evaluate_model(\"RandomForestRegressor (Before Tuning)\", pipeline_rf, x_test, y_test))"
      ]
    },
    {
      "cell_type": "code",
      "execution_count": null,
      "metadata": {
        "id": "QPLiJCuufFp-"
      },
      "outputs": [],
      "source": [
        "y_pred_rf = pipeline_rf.predict(x_test)\n",
        "residuals_rf = y_test - y_pred_rf\n",
        "\n",
        "plt.figure(figsize=(8, 6))\n",
        "sns.histplot(residuals_rf, kde=True)\n",
        "plt.title('Residuals Distribution for RandomForestRegressor')\n",
        "plt.xlabel('Residuals')\n",
        "plt.ylabel('Frequency')\n",
        "plt.show()\n",
        "\n",
        "plt.figure(figsize=(8, 6))\n",
        "plt.scatter(y_pred_rf, residuals_rf, alpha=0.7)\n",
        "plt.axhline(y=0, color='r', linestyle='--')\n",
        "plt.xlabel('Predicted Profit')\n",
        "plt.ylabel('Residuals')\n",
        "plt.title('Residuals vs. Predicted for RandomForestRegressor')\n",
        "plt.show()"
      ]
    },
    {
      "cell_type": "code",
      "execution_count": null,
      "metadata": {
        "id": "OI9XJc-n1nHw"
      },
      "outputs": [],
      "source": [
        "pipeline_knn = Pipeline([('KNeighborsRegressor', KNeighborsRegressor())])\n",
        "pipeline_knn.fit(x_train, y_train)\n",
        "metrics.append(evaluate_model(\"KNeighborsRegressor (Before Tuning)\", pipeline_knn, x_test, y_test))"
      ]
    },
    {
      "cell_type": "code",
      "execution_count": null,
      "metadata": {
        "id": "2HunDQD2fHS_"
      },
      "outputs": [],
      "source": [
        "y_pred_knn = pipeline_knn.predict(x_test)\n",
        "residuals_knn = y_test - y_pred_knn\n",
        "\n",
        "plt.figure(figsize=(8, 6))\n",
        "sns.histplot(residuals_knn, kde=True)\n",
        "plt.title('Residuals Distribution for KNeighborsRegressor')\n",
        "plt.xlabel('Residuals')\n",
        "plt.ylabel('Frequency')\n",
        "plt.show()\n",
        "\n",
        "plt.figure(figsize=(8, 6))\n",
        "plt.scatter(y_pred_knn, residuals_knn, alpha=0.7)\n",
        "plt.axhline(y=0, color='r', linestyle='--')\n",
        "plt.xlabel('Predicted Profit')\n",
        "plt.ylabel('Residuals')\n",
        "plt.title('Residuals vs. Predicted for KNeighborsRegressor')\n",
        "plt.show()"
      ]
    },
    {
      "cell_type": "code",
      "execution_count": null,
      "metadata": {
        "id": "NPytIR8e1nFZ"
      },
      "outputs": [],
      "source": [
        "fig, ax = plt.subplots(figsize=(12, 8))\n",
        "bar_width = 0.15\n",
        "df_metrics = pd.DataFrame(metrics)\n",
        "bar_positions = [i for i in range(len(df_metrics[\"Model\"]))]\n",
        "\n",
        "regression_metrics = [\"MSE\", \"RMSE\", \"MAE\", \"R2\"]\n",
        "\n",
        "for i, metric in enumerate(regression_metrics):\n",
        "    ax.bar([p + bar_width * i for p in bar_positions], df_metrics[metric], width=bar_width, label=metric)\n",
        "\n",
        "ax.set_xlabel('Models')\n",
        "ax.set_ylabel('Scores')\n",
        "ax.set_title('Performance Metrics for Different Models')\n",
        "ax.set_xticks([p + bar_width * (len(regression_metrics) - 1) / 2 for p in bar_positions])\n",
        "ax.set_xticklabels(df_metrics[\"Model\"], rotation=45, ha='right')\n",
        "ax.legend()\n",
        "\n",
        "plt.tight_layout()\n",
        "plt.show()"
      ]
    },
    {
      "cell_type": "code",
      "execution_count": null,
      "metadata": {
        "id": "fz-QDXQI65mw"
      },
      "outputs": [],
      "source": [
        "models = {\n",
        "    'LinearRegression': {\n",
        "        'model': LinearRegression(),\n",
        "        'params': {}\n",
        "    },\n",
        "    'DecisionTreeRegressor': {\n",
        "        'model': DecisionTreeRegressor(random_state=42),\n",
        "        'params': {\n",
        "            'max_depth': [None, 3, 5, 10],\n",
        "            'min_samples_split': [2, 5, 10]\n",
        "        }\n",
        "    },\n",
        "    'RandomForestRegressor': {\n",
        "        'model': RandomForestRegressor(random_state=42),\n",
        "        'params': {\n",
        "            'n_estimators': [50, 100, 200],\n",
        "            'max_depth': [None, 5, 10],\n",
        "            'min_samples_split': [2, 5]\n",
        "        }\n",
        "    },\n",
        "    'KNeighborsRegressor': {\n",
        "        'model': KNeighborsRegressor(),\n",
        "        'params': {\n",
        "            'n_neighbors': [3, 5, 7],\n",
        "            'weights': ['uniform', 'distance'],\n",
        "            'p': [1, 2]\n",
        "        }\n",
        "    }\n",
        "}"
      ]
    },
    {
      "cell_type": "code",
      "execution_count": null,
      "metadata": {
        "id": "xM1D8MgGE_eB"
      },
      "outputs": [],
      "source": [
        "best_models = {}\n",
        "\n",
        "for name, mp in models.items():\n",
        "    print(f\"\\nTraining and tuning {name}...\")\n",
        "    grid = GridSearchCV(mp['model'], mp['params'], cv=5, scoring='neg_mean_squared_error', n_jobs=-1)\n",
        "    grid.fit(x_train, y_train)\n",
        "    best_models[name] = grid.best_estimator_\n",
        "    print(f\"Best parameters for {name}: {grid.best_params_}\")\n",
        "\n",
        "    y_pred = grid.predict(x_test)\n",
        "\n",
        "    r2 = r2_score(y_test, y_pred)\n",
        "    mae = mean_absolute_error(y_test, y_pred)\n",
        "    mse = mean_squared_error(y_test, y_pred)\n",
        "    rmse = np.sqrt(mse)\n",
        "\n",
        "    print(f\"{name} Performance on Test Data:\")\n",
        "    print(f\"R²: {r2:.4f}\")\n",
        "    print(f\"MAE: {mae:.4f}\")\n",
        "    print(f\"MSE: {mse:.4f}\")\n",
        "    print(f\"RMSE: {rmse:.4f}\")\n",
        "\n",
        "    plt.figure(figsize=(6, 4))\n",
        "    plt.scatter(y_test, y_pred, alpha=0.7)\n",
        "    plt.plot([y.min(), y.max()], [y.min(), y.max()], 'r--')\n",
        "    plt.xlabel('Actual Rainfall')\n",
        "    plt.ylabel('Predicted Rainfall')\n",
        "    plt.title(f'{name} - Actual vs Predicted Rainfall')\n",
        "    plt.show()"
      ]
    },
    {
      "cell_type": "code",
      "execution_count": null,
      "metadata": {
        "id": "3FAbCvNlVOcx"
      },
      "outputs": [],
      "source": [
        "tuned_metrics = []\n",
        "\n",
        "dt_tuned_metrics = evaluate_model(\"DecisionTreeRegressor (Tuned)\", best_models['DecisionTreeRegressor'], x_test, y_test)\n",
        "tuned_metrics.append(dt_tuned_metrics)\n",
        "\n",
        "rf_tuned_metrics = evaluate_model(\"RandomForestRegressor (Tuned)\", best_models['RandomForestRegressor'], x_test, y_test)\n",
        "tuned_metrics.append(rf_tuned_metrics)\n",
        "\n",
        "knn_tuned_metrics = evaluate_model(\"KNeighborsRegressor (Tuned)\", best_models['KNeighborsRegressor'], x_test, y_test)\n",
        "tuned_metrics.append(knn_tuned_metrics)\n",
        "\n",
        "lr_metrics = next((item for item in metrics if item[\"Model\"] == \"Linear Regression\"), None)\n",
        "if lr_metrics:\n",
        "    tuned_metrics.append(lr_metrics)"
      ]
    },
    {
      "cell_type": "code",
      "execution_count": null,
      "metadata": {
        "id": "Ywb4PhhEVOaJ"
      },
      "outputs": [],
      "source": [
        "fig, ax = plt.subplots(figsize=(12, 8))\n",
        "bar_width = 0.15\n",
        "df_tuned_metrics = pd.DataFrame(tuned_metrics)\n",
        "bar_positions = [i for i in range(len(df_tuned_metrics[\"Model\"]))]\n",
        "\n",
        "regression_metrics = [\"MSE\", \"RMSE\", \"MAE\", \"R2\"]\n",
        "\n",
        "for i, metric in enumerate(regression_metrics):\n",
        "     ax.bar([p + bar_width * i for p in bar_positions], df_tuned_metrics[metric], width=bar_width, label=metric)\n",
        "\n",
        "ax.set_xlabel('Models')\n",
        "ax.set_ylabel('Scores')\n",
        "ax.set_title('Performance Metrics for Tuned Models')\n",
        "ax.set_xticks([p + bar_width * (len(regression_metrics) - 1) / 2 for p in bar_positions])\n",
        "ax.set_xticklabels(df_tuned_metrics[\"Model\"], rotation=45, ha='right')\n",
        "ax.legend()\n",
        "\n",
        "plt.tight_layout()\n",
        "plt.show()"
      ]
    },
    {
      "cell_type": "code",
      "execution_count": null,
      "metadata": {
        "id": "WJYYm6f6Wg4x"
      },
      "outputs": [],
      "source": [
        "from pycaret.regression import setup, compare_models, create_model, tune_model, evaluate_model, finalize_model"
      ]
    },
    {
      "cell_type": "code",
      "execution_count": null,
      "metadata": {
        "id": "Uks73xNQ_Ts5"
      },
      "outputs": [],
      "source": [
        "reg_setup = setup(data = df_pycaret, target = 'Rainfall', session_id=123)"
      ]
    },
    {
      "cell_type": "code",
      "execution_count": null,
      "metadata": {
        "id": "gGKPfWWv_ToA"
      },
      "outputs": [],
      "source": [
        "best_model = compare_models()"
      ]
    },
    {
      "cell_type": "code",
      "execution_count": null,
      "metadata": {
        "id": "f-h_HmVYE6WJ"
      },
      "outputs": [],
      "source": [
        "evaluate_model(best_model)"
      ]
    },
    {
      "cell_type": "code",
      "execution_count": null,
      "metadata": {
        "id": "GTrjJaF6aXVX"
      },
      "outputs": [],
      "source": []
    },
    {
      "cell_type": "code",
      "execution_count": null,
      "metadata": {
        "id": "6Cvrkc3DaXS_"
      },
      "outputs": [],
      "source": []
    },
    {
      "cell_type": "code",
      "execution_count": null,
      "metadata": {
        "id": "fpmHw4VzaXQo"
      },
      "outputs": [],
      "source": []
    }
  ],
  "metadata": {
    "colab": {
      "provenance": [],
      "include_colab_link": true
    },
    "kernelspec": {
      "display_name": "Python 3",
      "name": "python3"
    },
    "language_info": {
      "name": "python"
    }
  },
  "nbformat": 4,
  "nbformat_minor": 0
}